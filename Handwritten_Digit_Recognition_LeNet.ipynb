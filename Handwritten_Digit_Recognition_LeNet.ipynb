{
  "nbformat": 4,
  "nbformat_minor": 0,
  "metadata": {
    "colab": {
      "provenance": []
    },
    "kernelspec": {
      "name": "python3",
      "display_name": "Python 3"
    },
    "language_info": {
      "name": "python"
    }
  },
  "cells": [
    {
      "cell_type": "code",
      "execution_count": null,
      "metadata": {
        "id": "EXJMx9o2vswd"
      },
      "outputs": [],
      "source": [
        "import tensorflow\n",
        "from tensorflow import keras\n",
        "from keras.layers import Dense, Flatten, Conv2D,AveragePooling2D\n",
        "from keras.models import Sequential\n",
        "from keras.datasets import mnist\n",
        "import numpy as np\n",
        "import pandas as pd"
      ]
    },
    {
      "cell_type": "code",
      "source": [
        "(X_train, y_train), (X_test, y_test) = mnist.load_data()"
      ],
      "metadata": {
        "id": "UxZHaqh_5q3-"
      },
      "execution_count": null,
      "outputs": []
    },
    {
      "cell_type": "code",
      "source": [
        "from keras.preprocessing.image import img_to_array, array_to_img\n",
        "from tensorflow.keras.utils import to_categorical"
      ],
      "metadata": {
        "id": "_nzSo8QTDxL2"
      },
      "execution_count": null,
      "outputs": []
    },
    {
      "cell_type": "code",
      "source": [
        "X_train_resized = np.zeros((X_train.shape[0], 32, 32, 1))\n",
        "X_test_resized = np.zeros((X_test.shape[0], 32, 32, 1))\n",
        "\n",
        "for i in range(X_train.shape[0]):\n",
        "    X_train_resized[i] = img_to_array(array_to_img(X_train[i].reshape(28, 28, 1)).resize((32, 32)))\n",
        "\n",
        "for i in range(X_test.shape[0]):\n",
        "    X_test_resized[i] = img_to_array(array_to_img(X_test[i].reshape(28, 28, 1)).resize((32, 32)))\n"
      ],
      "metadata": {
        "id": "6h848RcFDiNi"
      },
      "execution_count": null,
      "outputs": []
    },
    {
      "cell_type": "code",
      "source": [
        "X_train = X_train_resized.astype('float32') / 255\n",
        "X_test = X_test_resized.astype('float32') / 255\n",
        "Y_train = to_categorical(y_train, 10)\n",
        "Y_test = to_categorical(y_test, 10)"
      ],
      "metadata": {
        "id": "pqoEZBFuBmDE"
      },
      "execution_count": null,
      "outputs": []
    },
    {
      "cell_type": "code",
      "source": [
        "X_train.shape"
      ],
      "metadata": {
        "colab": {
          "base_uri": "https://localhost:8080/"
        },
        "id": "gFxD12pxEmll",
        "outputId": "83aaf320-d5a0-4e18-8607-8406137c6bc3"
      },
      "execution_count": null,
      "outputs": [
        {
          "output_type": "execute_result",
          "data": {
            "text/plain": [
              "(60000, 32, 32, 1)"
            ]
          },
          "metadata": {},
          "execution_count": 46
        }
      ]
    },
    {
      "cell_type": "code",
      "source": [
        "model = Sequential()\n",
        "model.add(Conv2D(6, kernel_size=(5, 5), activation='tanh', input_shape=(32, 32, 1)))\n",
        "model.add(AveragePooling2D(pool_size=(2, 2),strides=2))\n",
        "model.add(Conv2D(16, kernel_size=(5, 5), activation='tanh'))\n",
        "model.add(AveragePooling2D(pool_size=(2, 2),strides=2))\n",
        "model.add(Flatten())\n",
        "model.add(Dense(120, activation='tanh'))\n",
        "model.add(Dense(84, activation='tanh'))\n",
        "model.add(Dense(10, activation='softmax'))\n"
      ],
      "metadata": {
        "id": "qjEfXcuQ5wIh"
      },
      "execution_count": null,
      "outputs": []
    },
    {
      "cell_type": "code",
      "source": [
        "model.summary()"
      ],
      "metadata": {
        "colab": {
          "base_uri": "https://localhost:8080/"
        },
        "id": "MHdzgrtE7FA6",
        "outputId": "e8d4374d-f861-4d6d-81bc-6ad125a2e84e"
      },
      "execution_count": null,
      "outputs": [
        {
          "output_type": "stream",
          "name": "stdout",
          "text": [
            "Model: \"sequential_1\"\n",
            "_________________________________________________________________\n",
            " Layer (type)                Output Shape              Param #   \n",
            "=================================================================\n",
            " conv2d_2 (Conv2D)           (None, 28, 28, 6)         156       \n",
            "                                                                 \n",
            " average_pooling2d_2 (Avera  (None, 14, 14, 6)         0         \n",
            " gePooling2D)                                                    \n",
            "                                                                 \n",
            " conv2d_3 (Conv2D)           (None, 10, 10, 16)        2416      \n",
            "                                                                 \n",
            " average_pooling2d_3 (Avera  (None, 5, 5, 16)          0         \n",
            " gePooling2D)                                                    \n",
            "                                                                 \n",
            " flatten_1 (Flatten)         (None, 400)               0         \n",
            "                                                                 \n",
            " dense_3 (Dense)             (None, 120)               48120     \n",
            "                                                                 \n",
            " dense_4 (Dense)             (None, 84)                10164     \n",
            "                                                                 \n",
            " dense_5 (Dense)             (None, 10)                850       \n",
            "                                                                 \n",
            "=================================================================\n",
            "Total params: 61706 (241.04 KB)\n",
            "Trainable params: 61706 (241.04 KB)\n",
            "Non-trainable params: 0 (0.00 Byte)\n",
            "_________________________________________________________________\n"
          ]
        }
      ]
    },
    {
      "cell_type": "code",
      "source": [
        "model.compile(loss=keras.losses.sparse_categorical_crossentropy, optimizer=keras.optimizers.Adam(), metrics=['accuracy'])\n",
        "\n",
        "history = model.fit(X_train, y_train, epochs=10, validation_data=(X_test, y_test))\n"
      ],
      "metadata": {
        "colab": {
          "base_uri": "https://localhost:8080/"
        },
        "id": "2B17Evax8QbV",
        "outputId": "6611ac65-e5e2-4804-fb10-3fd51b9cd62c"
      },
      "execution_count": null,
      "outputs": [
        {
          "output_type": "stream",
          "name": "stdout",
          "text": [
            "Epoch 1/10\n",
            "1875/1875 [==============================] - 45s 23ms/step - loss: 0.2236 - accuracy: 0.9335 - val_loss: 0.0990 - val_accuracy: 0.9704\n",
            "Epoch 2/10\n",
            "1875/1875 [==============================] - 46s 24ms/step - loss: 0.0832 - accuracy: 0.9736 - val_loss: 0.0625 - val_accuracy: 0.9800\n",
            "Epoch 3/10\n",
            "1875/1875 [==============================] - 40s 22ms/step - loss: 0.0539 - accuracy: 0.9829 - val_loss: 0.0590 - val_accuracy: 0.9810\n",
            "Epoch 4/10\n",
            "1875/1875 [==============================] - 43s 23ms/step - loss: 0.0418 - accuracy: 0.9869 - val_loss: 0.0487 - val_accuracy: 0.9840\n",
            "Epoch 5/10\n",
            "1875/1875 [==============================] - 42s 22ms/step - loss: 0.0342 - accuracy: 0.9891 - val_loss: 0.0478 - val_accuracy: 0.9842\n",
            "Epoch 6/10\n",
            "1875/1875 [==============================] - 43s 23ms/step - loss: 0.0275 - accuracy: 0.9910 - val_loss: 0.0576 - val_accuracy: 0.9828\n",
            "Epoch 7/10\n",
            "1875/1875 [==============================] - 42s 23ms/step - loss: 0.0237 - accuracy: 0.9922 - val_loss: 0.0472 - val_accuracy: 0.9849\n",
            "Epoch 8/10\n",
            "1875/1875 [==============================] - 40s 21ms/step - loss: 0.0206 - accuracy: 0.9932 - val_loss: 0.0464 - val_accuracy: 0.9868\n",
            "Epoch 9/10\n",
            "1875/1875 [==============================] - 42s 23ms/step - loss: 0.0169 - accuracy: 0.9944 - val_loss: 0.0489 - val_accuracy: 0.9859\n",
            "Epoch 10/10\n",
            "1875/1875 [==============================] - 45s 24ms/step - loss: 0.0145 - accuracy: 0.9953 - val_loss: 0.0541 - val_accuracy: 0.9852\n"
          ]
        }
      ]
    },
    {
      "cell_type": "code",
      "source": [
        "test_loss, test_accuracy = model.evaluate(X_test, y_test)\n",
        "print(\"Test Loss:\", test_loss)\n",
        "print(\"Test Accuracy:\", test_accuracy)"
      ],
      "metadata": {
        "colab": {
          "base_uri": "https://localhost:8080/"
        },
        "id": "0fhTSjo3IWNy",
        "outputId": "4d45df8a-f25e-4b44-ae1b-d1a467a0645b"
      },
      "execution_count": null,
      "outputs": [
        {
          "output_type": "stream",
          "name": "stdout",
          "text": [
            "313/313 [==============================] - 3s 8ms/step - loss: 0.0541 - accuracy: 0.9852\n",
            "Test Loss: 0.05405160039663315\n",
            "Test Accuracy: 0.9851999878883362\n"
          ]
        }
      ]
    },
    {
      "cell_type": "code",
      "source": [
        "model.save(\"my_LetNet5.h5\")"
      ],
      "metadata": {
        "colab": {
          "base_uri": "https://localhost:8080/"
        },
        "id": "x48HRz2AIdSX",
        "outputId": "8a091a40-23c1-4279-c3f0-ca385f8b7b70"
      },
      "execution_count": null,
      "outputs": [
        {
          "output_type": "stream",
          "name": "stderr",
          "text": [
            "/usr/local/lib/python3.10/dist-packages/keras/src/engine/training.py:3103: UserWarning: You are saving your model as an HDF5 file via `model.save()`. This file format is considered legacy. We recommend using instead the native Keras format, e.g. `model.save('my_model.keras')`.\n",
            "  saving_api.save_model(\n"
          ]
        }
      ]
    },
    {
      "cell_type": "code",
      "source": [
        "y_pred = model.predict(X_test)"
      ],
      "metadata": {
        "colab": {
          "base_uri": "https://localhost:8080/"
        },
        "id": "zo7aIo4GOONx",
        "outputId": "fc072053-eb39-4ae3-810d-3634907d9705"
      },
      "execution_count": null,
      "outputs": [
        {
          "output_type": "stream",
          "name": "stdout",
          "text": [
            "313/313 [==============================] - 3s 9ms/step\n"
          ]
        }
      ]
    },
    {
      "cell_type": "code",
      "source": [
        "from sklearn.metrics import classification_report\n",
        "y_pred_classes = np.argmax(y_pred, axis=1)\n",
        "report = classification_report(y_test, y_pred_classes)\n",
        "print(report)"
      ],
      "metadata": {
        "colab": {
          "base_uri": "https://localhost:8080/"
        },
        "id": "qPNYO45tOaeP",
        "outputId": "9a67e6fc-2e17-4ec0-ad36-c4b50a9f37ef"
      },
      "execution_count": null,
      "outputs": [
        {
          "output_type": "stream",
          "name": "stdout",
          "text": [
            "              precision    recall  f1-score   support\n",
            "\n",
            "           0       0.99      0.99      0.99       980\n",
            "           1       0.99      1.00      0.99      1135\n",
            "           2       0.98      0.99      0.98      1032\n",
            "           3       0.98      0.99      0.98      1010\n",
            "           4       0.98      0.98      0.98       982\n",
            "           5       0.98      0.99      0.99       892\n",
            "           6       0.99      0.98      0.99       958\n",
            "           7       0.99      0.98      0.98      1028\n",
            "           8       0.99      0.97      0.98       974\n",
            "           9       0.98      0.98      0.98      1009\n",
            "\n",
            "    accuracy                           0.99     10000\n",
            "   macro avg       0.99      0.99      0.99     10000\n",
            "weighted avg       0.99      0.99      0.99     10000\n",
            "\n"
          ]
        }
      ]
    },
    {
      "cell_type": "markdown",
      "source": [
        "Accuracy: 98.52% Test Loss:0.054 Training Time: Faster than CNN's Hyperparameters: C (Regularization parameter): Controls the trade-off between achieving a low error on training data and minimizing the complexity of the model. 10 Gamma (Kernel coefficient): Defines how far the influence of a single training example reaches, impacting the decision boundary shape in the feature space. 0.001 Special features : handling non-linear classification tasks without explicitly transforming the input data. generally robust to noise in the data and outliers"
      ],
      "metadata": {
        "id": "0p1n3Xx8Imst"
      }
    }
  ]
}